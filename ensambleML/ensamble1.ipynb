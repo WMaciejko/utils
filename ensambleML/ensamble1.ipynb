{
 "cells": [
  {
   "cell_type": "markdown",
   "metadata": {},
   "source": [
    "<font size=3>\n",
    "Ensemble learning in machine learning combines multiple individual models to create a stronger, more accurate predictive model. By leveraging the diverse strengths of different models, ensemble learning aims to mitigate errors, enhance performance, and increase the overall robustness of predictions, leading to improved results across various tasks in machine learning and data analysis.</br>\n",
    "\n",
    "[1] Ensemble Learning in Machine Learning: Stacking, Bagging and Boosting Mbali Kalirane https://www.analyticsvidhya.com/\n",
    "</font>\n",
    "\n",
    "<div>\n",
    "    <img src=\"img/Figure_1.png\" width=\"500\"/>\n",
    "</div>\n",
    "\n",
    "<font size=3>\n",
    "When to use Bagging vs Boosting vs Stacking? \n",
    "</font>\n",
    "\n",
    "<div>\n",
    "    <img src=\"img/Figure_2.jpg\" width=\"500\"/>\n",
    "</div>\n",
    "\n",
    "<font size=3>\n",
    "[2] Bagging vs Boosting vs Stacking in Machine Learning Amy https://grabngoinfo.com \n",
    "</font>"
   ]
  },
  {
   "cell_type": "code",
   "execution_count": 1,
   "metadata": {},
   "outputs": [],
   "source": [
    "%reset"
   ]
  },
  {
   "cell_type": "markdown",
   "metadata": {},
   "source": [
    "# Imports"
   ]
  },
  {
   "cell_type": "code",
   "execution_count": 26,
   "metadata": {},
   "outputs": [],
   "source": [
    "# imports\n",
    "\n",
    "# ensambles\n",
    "import xgboost\n",
    "from sklearn.ensemble import RandomForestClassifier, BaggingClassifier\n",
    "from sklearn.ensemble import GradientBoostingClassifier, AdaBoostClassifier\n",
    "from sklearn.ensemble import StackingClassifier\n",
    "\n",
    "# meta models\n",
    "from sklearn.linear_model import LogisticRegression\n",
    "from sklearn.svm import SVC\n",
    "\n",
    "from sklearn.model_selection import train_test_split\n",
    "from sklearn.metrics import accuracy_score, precision_recall_fscore_support\n",
    "from sklearn.impute import SimpleImputer\n",
    "from sklearn.preprocessing import StandardScaler\n",
    "\n",
    "import numpy as np\n",
    "import pandas as pd\n",
    "import collections\n",
    "import matplotlib.pyplot as plt"
   ]
  },
  {
   "cell_type": "markdown",
   "metadata": {},
   "source": [
    "# Load and preprocess data"
   ]
  },
  {
   "cell_type": "code",
   "execution_count": 3,
   "metadata": {},
   "outputs": [],
   "source": [
    "# load data https://www.kaggle.com/competitions/titanic/data\n",
    "\n",
    "data = pd.read_csv('data/train.csv', sep=',')"
   ]
  },
  {
   "cell_type": "code",
   "execution_count": 4,
   "metadata": {},
   "outputs": [],
   "source": [
    "def preproces(data: pd.DataFrame):\n",
    "\n",
    "    # preprocess Age\n",
    "    imputer = SimpleImputer(missing_values=np.nan, strategy='most_frequent')\n",
    "    data[['Age']] = imputer.fit_transform(data[['Age']])\n",
    "\n",
    "    # preprocess Embarked\n",
    "    imputer = SimpleImputer(missing_values=np.nan, strategy='most_frequent')\n",
    "    data[['Embarked']] = imputer.fit_transform(data[['Embarked']])\n",
    "\n",
    "    data=data.drop(labels=['Cabin', 'PassengerId', 'Name'], axis=1)\n",
    "\n",
    "    # preprocess Tickets (LINE - value in one cell)\n",
    "    new_tickets = []\n",
    "\n",
    "    for i in data['Ticket']:\n",
    "        ii = i.split()\n",
    "        if ii == 'LINE':\n",
    "            ii = '0'\n",
    "        if len(ii) == 1:\n",
    "            new_tickets.append(ii[0])\n",
    "        elif len(ii) == 2:\n",
    "            new_tickets.append(ii[1])\n",
    "        elif len(ii) == 3:\n",
    "            new_tickets.append(ii[2])\n",
    "\n",
    "    data['Ticket'] = new_tickets\n",
    "\n",
    "    new_emb = pd.get_dummies(data=data['Embarked'], prefix='emb', prefix_sep='_')\n",
    "    new_sex = pd.get_dummies(data['Sex'], prefix='sex', prefix_sep='_')\n",
    "    data.drop(labels=['Embarked', 'Sex', 'Ticket'], axis=1, inplace=True)\n",
    "    data = pd.concat((data, new_emb, new_sex), axis=1)\n",
    "    #data = pd.concat((data, new_sex), axis=1) # without embarked\n",
    "\n",
    "    return data"
   ]
  },
  {
   "cell_type": "markdown",
   "metadata": {},
   "source": [
    "## Preprocess and split train data to train and validation subsets"
   ]
  },
  {
   "cell_type": "code",
   "execution_count": 5,
   "metadata": {},
   "outputs": [],
   "source": [
    "data = preproces(data)\n",
    "\n",
    "y = data['Survived']\n",
    "X = data.drop(labels=['Survived'], axis=1)"
   ]
  },
  {
   "cell_type": "code",
   "execution_count": 6,
   "metadata": {},
   "outputs": [
    {
     "data": {
      "image/png": "[encoded data removed]",
      "text/plain": [
       "<Figure size 1200x200 with 1 Axes>"
      ]
     },
     "metadata": {},
     "output_type": "display_data"
    }
   ],
   "source": [
    "# check labels' balance\n",
    "\n",
    "d = collections.Counter(y)\n",
    "\n",
    "fig, ax = plt.subplots(figsize=(12, 2))\n",
    "ax.bar(d.keys(), d.values())\n",
    "ax.set_xticks(ticks=list(d.keys()), labels=d.keys())\n",
    "ax.set_title('Balance in data\\' labels')\n",
    "plt.xlabel('Labels')\n",
    "plt.ylabel('Count of labels')\n",
    "plt.grid()\n",
    "plt.show()"
   ]
  },
  {
   "cell_type": "code",
   "execution_count": 7,
   "metadata": {},
   "outputs": [],
   "source": [
    "X_train, X_val, y_train, y_val = train_test_split(X, \n",
    "                                                  y, \n",
    "                                                  train_size=0.8, \n",
    "                                                  random_state=42)"
   ]
  },
  {
   "cell_type": "code",
   "execution_count": 8,
   "metadata": {},
   "outputs": [],
   "source": [
    "sc = StandardScaler()\n",
    "\n",
    "X_train_sc = sc.fit_transform(X_train)\n",
    "X_val_sc = sc.transform(X_val)"
   ]
  },
  {
   "cell_type": "markdown",
   "metadata": {},
   "source": [
    "# Random Forest Classifier "
   ]
  },
  {
   "cell_type": "code",
   "execution_count": 9,
   "metadata": {},
   "outputs": [
    {
     "name": "stdout",
     "output_type": "stream",
     "text": [
      "Random Forest Classifier (for train)\n",
      "accuracy: 0.98\n",
      "precission: 0.98\n",
      "recall: 0.97\n",
      "f1-score: 0.98\n",
      "Random Forest Classifier (for validation)\n",
      "accuracy: 0.80\n",
      "precission: 0.79\n",
      "recall: 0.79\n",
      "f1-score: 0.79\n"
     ]
    }
   ],
   "source": [
    "# Random Forest Classifier\n",
    "rfc = RandomForestClassifier(n_estimators=100,\n",
    "                             criterion='gini',\n",
    "                             max_depth=None,\n",
    "                             class_weight=None,\n",
    "                             verbose=False,\n",
    "                             n_jobs=-1)\n",
    "rfc.fit(X_train_sc, y_train)\n",
    "y_pred = rfc.predict(X_val_sc)\n",
    "\n",
    "# Metrics on train data\n",
    "\n",
    "y_pred_train = rfc.predict(X_train_sc)\n",
    "accuracy = accuracy_score(y_train, y_pred_train)\n",
    "precission, recall, f1, _ = precision_recall_fscore_support(y_train, y_pred_train, average='macro')\n",
    "\n",
    "print(f\"Random Forest Classifier (for train)\\naccuracy: {accuracy:.2f}\\nprecission: {precission:.2f}\\nrecall: {recall:.2f}\\nf1-score: {f1:.2f}\")\n",
    "\n",
    "y_pred_valid = rfc.predict(X_val_sc)\n",
    "accuracy = accuracy_score(y_val, y_pred_valid)\n",
    "precission, recall, f1, _ = precision_recall_fscore_support(y_val, y_pred_valid, average='macro')\n",
    "\n",
    "print(f\"\\nRandom Forest Classifier (for validation)\\naccuracy: {accuracy:.2f}\\nprecission: {precission:.2f}\\nrecall: {recall:.2f}\\nf1-score: {f1:.2f}\")"
   ]
  },
  {
   "cell_type": "code",
   "execution_count": 10,
   "metadata": {},
   "outputs": [
    {
     "name": "stdout",
     "output_type": "stream",
     "text": [
      "Random Forest Classifier (for train)\n",
      "accuracy: 0.98\n",
      "precission: 0.98\n",
      "recall: 0.98\n",
      "f1-score: 0.98\n",
      "\n",
      "Random Forest Classifier (for validation)\n",
      "accuracy: 0.81\n",
      "precission: 0.80\n",
      "recall: 0.80\n",
      "f1-score: 0.80\n"
     ]
    }
   ],
   "source": [
    "# Random Forest Classifier with weighting\n",
    "\n",
    "w0 = len(y_train) / (len(np.unique(y_train)) * len(y_train[y_train==0]))\n",
    "w1 = len(y_train) / (len(np.unique(y_train)) * len(y_train[y_train==1]))\n",
    "\n",
    "rfc = RandomForestClassifier(n_estimators=100,\n",
    "                             criterion='gini',\n",
    "                             max_depth=None,\n",
    "                             class_weight={0:w0, 1:w1},\n",
    "                             verbose=False,\n",
    "                             n_jobs=-1)\n",
    "\n",
    "rfc.fit(X_train_sc, y_train)\n",
    "y_pred_train = rfc.predict(X_train_sc)\n",
    "y_pred_valid = rfc.predict(X_val_sc)\n",
    "\n",
    "# Metrics on train data\n",
    "\n",
    "accuracy = accuracy_score(y_train, y_pred_train)\n",
    "precission, recall, f1, _ = precision_recall_fscore_support(y_train, y_pred_train, average='macro')\n",
    "\n",
    "print(f\"Random Forest Classifier (for train)\\naccuracy: {accuracy:.2f}\\nprecission: {precission:.2f}\\nrecall: {recall:.2f}\\nf1-score: {f1:.2f}\")\n",
    "\n",
    "accuracy = accuracy_score(y_val, y_pred_valid)\n",
    "precission, recall, f1, _ = precision_recall_fscore_support(y_val, y_pred_valid, average='macro')\n",
    "\n",
    "print(f\"\\nRandom Forest Classifier (for validation)\\naccuracy: {accuracy:.2f}\\nprecission: {precission:.2f}\\nrecall: {recall:.2f}\\nf1-score: {f1:.2f}\")"
   ]
  },
  {
   "cell_type": "markdown",
   "metadata": {},
   "source": [
    "# Bagging (Random Forest Classifier)\n",
    "\n",
    "<font size=3>\n",
    "<p>&emsp; 1. From n-elements training set choose m-subsets. Each subset is taken with replacement. Some data points can be sampled more than once.<p>\n",
    "<p>&emsp; 2. For each subset train weak learner independently. Learner are the same type. <p>\n",
    "<p>&emsp; 3. Each model make a prediction.<p>\n",
    "<p>&emsp; 4. Aggregation the predictions. Using max voting (for classification) or averaging (for regression) yeilds single prediction<p>\n",
    "</font>"
   ]
  },
  {
   "cell_type": "code",
   "execution_count": 11,
   "metadata": {},
   "outputs": [
    {
     "name": "stdout",
     "output_type": "stream",
     "text": [
      "Bagging (Random Forest Classifier) (for train)\n",
      "accuracy: 0.94\n",
      "precission: 0.95\n",
      "recall: 0.93\n",
      "f1-score: 0.94\n",
      "\n",
      "Bagging (Random Forest Classifier) (for validation)\n",
      "accuracy: 0.84\n",
      "precission: 0.84\n",
      "recall: 0.83\n",
      "f1-score: 0.83\n"
     ]
    }
   ],
   "source": [
    "# for homogeneous estimators (hier rfc)\n",
    "# for high variance results\n",
    "\n",
    "bag = BaggingClassifier(estimator=rfc, n_estimators=100, max_samples=1.0,\n",
    "                        max_features=1.0, bootstrap=True,\n",
    "                        bootstrap_features=False,\n",
    "                        n_jobs=-1)\n",
    "\n",
    "bag.fit(X_train_sc, y_train)\n",
    "y_pred_train = bag.predict(X_train_sc)\n",
    "y_pred_valid = bag.predict(X_val_sc)\n",
    "\n",
    "accuracy = accuracy_score(y_train, y_pred_train)\n",
    "precission, recall, f1, _ = precision_recall_fscore_support(y_train, y_pred_train, average='macro')\n",
    "\n",
    "print(f\"Bagging (Random Forest Classifier) (for train)\\naccuracy: {accuracy:.2f}\\nprecission: {precission:.2f}\\nrecall: {recall:.2f}\\nf1-score: {f1:.2f}\")\n",
    "\n",
    "accuracy = accuracy_score(y_val, y_pred_valid)\n",
    "precission, recall, f1, _ = precision_recall_fscore_support(y_val, y_pred_valid, average='macro')\n",
    "\n",
    "print(f\"\\nBagging (Random Forest Classifier) (for validation)\\naccuracy: {accuracy:.2f}\\nprecission: {precission:.2f}\\nrecall: {recall:.2f}\\nf1-score: {f1:.2f}\")"
   ]
  },
  {
   "cell_type": "markdown",
   "metadata": {},
   "source": [
    "# Boosting (GradientBoostingClassifier)\n",
    "\n",
    "<font size=3>\n",
    "<p>&emsp; 1. From n-elements training set choose m-subsets. Each subset is taken with replacement. Some data points can be sampled more than once.<p>\n",
    "<p>&emsp; 2. Using first subset train first weak learner. <p>\n",
    "<p>&emsp; 3. Test using training data.<p>\n",
    "<p>&emsp; 4. All False predicted Data Points from 1st subset are send to 2nd subset.<p>\n",
    "<p>&emsp; 5. Using update 2nd subset train anather weak learner.<p>\n",
    "<p>&emsp; 6. Loop using above procedure until reach last subset.<p>\n",
    "</font>"
   ]
  },
  {
   "cell_type": "code",
   "execution_count": 12,
   "metadata": {},
   "outputs": [
    {
     "name": "stdout",
     "output_type": "stream",
     "text": [
      "Gradient Boosting Classifier (Random Forest Classifier) (for train)\n",
      "accuracy: 0.93\n",
      "precission: 0.94\n",
      "recall: 0.91\n",
      "f1-score: 0.92\n",
      "\n",
      "Gradient Boosting Classifier (Random Forest Classifier) (for validation)\n",
      "accuracy: 0.82\n",
      "precission: 0.81\n",
      "recall: 0.80\n",
      "f1-score: 0.81\n"
     ]
    }
   ],
   "source": [
    "gbc = GradientBoostingClassifier(n_estimators=200)\n",
    "\n",
    "gbc.fit(X_train_sc, y_train)\n",
    "y_pred_train = gbc.predict(X_train_sc)\n",
    "y_pred_valid = gbc.predict(X_val_sc)\n",
    "\n",
    "accuracy = accuracy_score(y_train, y_pred_train)\n",
    "precission, recall, f1, _ = precision_recall_fscore_support(y_train, y_pred_train, average='macro')\n",
    "\n",
    "print(f\"Gradient Boosting Classifier (Random Forest Classifier) (for train)\\naccuracy: {accuracy:.2f}\\nprecission: {precission:.2f}\\nrecall: {recall:.2f}\\nf1-score: {f1:.2f}\")\n",
    "\n",
    "accuracy = accuracy_score(y_val, y_pred_valid)\n",
    "precission, recall, f1, _ = precision_recall_fscore_support(y_val, y_pred_valid, average='macro')\n",
    "\n",
    "print(f\"\\nGradient Boosting Classifier (Random Forest Classifier) (for validation)\\naccuracy: {accuracy:.2f}\\nprecission: {precission:.2f}\\nrecall: {recall:.2f}\\nf1-score: {f1:.2f}\")"
   ]
  },
  {
   "cell_type": "markdown",
   "metadata": {},
   "source": [
    "# Boosting (AdaBoost)"
   ]
  },
  {
   "cell_type": "code",
   "execution_count": 13,
   "metadata": {},
   "outputs": [
    {
     "name": "stdout",
     "output_type": "stream",
     "text": [
      "AdaBoost Classifier (Random Forest Classifier) (for train)\n",
      "accuracy: 0.98\n",
      "precission: 0.98\n",
      "recall: 0.98\n",
      "f1-score: 0.98\n",
      "\n",
      "AdaBoost Classifier (Random Forest Classifier) (for validation)\n",
      "accuracy: 0.82\n",
      "precission: 0.81\n",
      "recall: 0.81\n",
      "f1-score: 0.81\n"
     ]
    }
   ],
   "source": [
    "ada = AdaBoostClassifier(estimator=rfc, n_estimators=200)\n",
    "\n",
    "ada.fit(X_train_sc, y_train)\n",
    "y_pred_train = ada.predict(X_train_sc)\n",
    "y_pred_valid = ada.predict(X_val_sc)\n",
    "\n",
    "accuracy = accuracy_score(y_train, y_pred_train)\n",
    "precission, recall, f1, _ = precision_recall_fscore_support(y_train, y_pred_train, average='macro')\n",
    "\n",
    "print(f\"AdaBoost Classifier (Random Forest Classifier) (for train)\\naccuracy: {accuracy:.2f}\\nprecission: {precission:.2f}\\nrecall: {recall:.2f}\\nf1-score: {f1:.2f}\")\n",
    "\n",
    "accuracy = accuracy_score(y_val, y_pred_valid)\n",
    "precission, recall, f1, _ = precision_recall_fscore_support(y_val, y_pred_valid, average='macro')\n",
    "\n",
    "print(f\"\\nAdaBoost Classifier (Random Forest Classifier) (for validation)\\naccuracy: {accuracy:.2f}\\nprecission: {precission:.2f}\\nrecall: {recall:.2f}\\nf1-score: {f1:.2f}\")"
   ]
  },
  {
   "cell_type": "markdown",
   "metadata": {},
   "source": [
    "# Boosintg (XGBoost)"
   ]
  },
  {
   "cell_type": "code",
   "execution_count": 14,
   "metadata": {},
   "outputs": [
    {
     "name": "stdout",
     "output_type": "stream",
     "text": [
      "XGBoost Classifier (Random Forest Classifier) (for train)\n",
      "accuracy: 0.93\n",
      "precission: 0.94\n",
      "recall: 0.91\n",
      "f1-score: 0.92\n",
      "\n",
      "XGBoost Classifier (Random Forest Classifier) (for validation)\n",
      "accuracy: 0.81\n",
      "precission: 0.81\n",
      "recall: 0.80\n",
      "f1-score: 0.80\n"
     ]
    }
   ],
   "source": [
    "xgb = xgboost.XGBClassifier(n_estimators=100, learning_rate=0.1, random_state=42)\n",
    "\n",
    "xgb.fit(X_train_sc, y_train)\n",
    "y_pred_train = xgb.predict(X_train_sc)\n",
    "y_pred_valid = xgb.predict(X_val_sc)\n",
    "\n",
    "accuracy = accuracy_score(y_train, y_pred_train)\n",
    "precission, recall, f1, _ = precision_recall_fscore_support(y_train, y_pred_train, average='macro')\n",
    "\n",
    "print(f\"XGBoost Classifier (Random Forest Classifier) (for train)\\naccuracy: {accuracy:.2f}\\nprecission: {precission:.2f}\\nrecall: {recall:.2f}\\nf1-score: {f1:.2f}\")\n",
    "\n",
    "accuracy = accuracy_score(y_val, y_pred_valid)\n",
    "precission, recall, f1, _ = precision_recall_fscore_support(y_val, y_pred_valid, average='macro')\n",
    "\n",
    "print(f\"\\nXGBoost Classifier (Random Forest Classifier) (for validation)\\naccuracy: {accuracy:.2f}\\nprecission: {precission:.2f}\\nrecall: {recall:.2f}\\nf1-score: {f1:.2f}\")\n"
   ]
  },
  {
   "cell_type": "markdown",
   "metadata": {},
   "source": [
    "# Stacking (meta_model=LogisticRegression)\n",
    "\n",
    "<font size=3>\n",
    "<p>&emsp; 1. Use initial training data to train m-number algorithms.<p>\n",
    "<p>&emsp; 2. Using the output of each algorithm, create a new trainig set. <p>\n",
    "<p>&emsp; 3. Using the new training set create meta-model.<p>\n",
    "<p>&emsp; 4. Using the results of the meta-model make final prediction combining the result using weigthted averaging<p>\n",
    "</font>"
   ]
  },
  {
   "cell_type": "code",
   "execution_count": 25,
   "metadata": {},
   "outputs": [
    {
     "name": "stdout",
     "output_type": "stream",
     "text": [
      "sklearn StackingClassifier (for train)\n",
      "accuracy: 0.94\n",
      "precission: 0.95\n",
      "recall: 0.92\n",
      "f1-score: 0.93\n",
      "\n",
      "sklearn StackingClassifier  (for validation)\n",
      "accuracy: 0.83\n",
      "precission: 0.83\n",
      "recall: 0.81\n",
      "f1-score: 0.82\n"
     ]
    }
   ],
   "source": [
    "base_models = [\n",
    "    ('rfc', RandomForestClassifier(n_estimators=100,\n",
    "                             criterion='gini',\n",
    "                             max_depth=None,\n",
    "                             class_weight={0:w0, 1:w1},\n",
    "                             verbose=False,\n",
    "                             n_jobs=-1)),                            \n",
    "    ('bag', BaggingClassifier(estimator=rfc, n_estimators=100, max_samples=1.0,\n",
    "                            max_features=1.0, bootstrap=True,\n",
    "                            bootstrap_features=False,\n",
    "                            n_jobs=-1)),         \n",
    "    ('gbc', GradientBoostingClassifier(n_estimators=200)),    \n",
    "    ('ada', AdaBoostClassifier(estimator=rfc, n_estimators=200)),\n",
    "    ('xgb', xgboost.XGBClassifier(n_estimators=100, learning_rate=0.1, random_state=42))\n",
    "]\n",
    "\n",
    "meta_model = LogisticRegression()\n",
    "\n",
    "stacking = StackingClassifier(estimators=base_models, final_estimator=meta_model)\n",
    "stacking.fit(X_train_sc, y_train)\n",
    "y_pred_train = stacking.predict(X_train_sc)\n",
    "y_pred_valid = stacking.predict(X_val_sc)\n",
    "\n",
    "accuracy = accuracy_score(y_train, y_pred_train)\n",
    "precission, recall, f1, _ = precision_recall_fscore_support(y_train, y_pred_train, average='macro')\n",
    "\n",
    "print(f\"sklearn StackingClassifier (for train)\\naccuracy: {accuracy:.2f}\\nprecission: {precission:.2f}\\nrecall: {recall:.2f}\\nf1-score: {f1:.2f}\")\n",
    "\n",
    "accuracy = accuracy_score(y_val, y_pred_valid)\n",
    "precission, recall, f1, _ = precision_recall_fscore_support(y_val, y_pred_valid, average='macro')\n",
    "\n",
    "print(f\"\\nsklearn StackingClassifier  (for validation)\\naccuracy: {accuracy:.2f}\\nprecission: {precission:.2f}\\nrecall: {recall:.2f}\\nf1-score: {f1:.2f}\")"
   ]
  },
  {
   "cell_type": "markdown",
   "metadata": {},
   "source": [
    "# Stacking (meta_model=SVM)"
   ]
  },
  {
   "cell_type": "code",
   "execution_count": 27,
   "metadata": {},
   "outputs": [
    {
     "name": "stdout",
     "output_type": "stream",
     "text": [
      "sklearn StackingClassifier (for train)\n",
      "accuracy: 0.92\n",
      "precission: 0.94\n",
      "recall: 0.90\n",
      "f1-score: 0.91\n",
      "\n",
      "sklearn StackingClassifier  (for validation)\n",
      "accuracy: 0.82\n",
      "precission: 0.82\n",
      "recall: 0.80\n",
      "f1-score: 0.80\n"
     ]
    }
   ],
   "source": [
    "base_models = [\n",
    "    ('rfc', RandomForestClassifier(n_estimators=100,\n",
    "                             criterion='gini',\n",
    "                             max_depth=None,\n",
    "                             class_weight={0:w0, 1:w1},\n",
    "                             verbose=False,\n",
    "                             n_jobs=-1)),                            \n",
    "    ('bag', BaggingClassifier(estimator=rfc, n_estimators=100, max_samples=1.0,\n",
    "                            max_features=1.0, bootstrap=True,\n",
    "                            bootstrap_features=False,\n",
    "                            n_jobs=-1)),         \n",
    "    ('gbc', GradientBoostingClassifier(n_estimators=200)),    \n",
    "    ('ada', AdaBoostClassifier(estimator=rfc, n_estimators=200)),\n",
    "    ('xgb', xgboost.XGBClassifier(n_estimators=100, learning_rate=0.1, random_state=42))\n",
    "]\n",
    "\n",
    "meta_model = SVC(gamma='auto')\n",
    "\n",
    "stacking = StackingClassifier(estimators=base_models, final_estimator=meta_model)\n",
    "stacking.fit(X_train_sc, y_train)\n",
    "y_pred_train = stacking.predict(X_train_sc)\n",
    "y_pred_valid = stacking.predict(X_val_sc)\n",
    "\n",
    "accuracy = accuracy_score(y_train, y_pred_train)\n",
    "precission, recall, f1, _ = precision_recall_fscore_support(y_train, y_pred_train, average='macro')\n",
    "\n",
    "print(f\"sklearn StackingClassifier (for train)\\naccuracy: {accuracy:.2f}\\nprecission: {precission:.2f}\\nrecall: {recall:.2f}\\nf1-score: {f1:.2f}\")\n",
    "\n",
    "accuracy = accuracy_score(y_val, y_pred_valid)\n",
    "precission, recall, f1, _ = precision_recall_fscore_support(y_val, y_pred_valid, average='macro')\n",
    "\n",
    "print(f\"\\nsklearn StackingClassifier  (for validation)\\naccuracy: {accuracy:.2f}\\nprecission: {precission:.2f}\\nrecall: {recall:.2f}\\nf1-score: {f1:.2f}\")"
   ]
  },
  {
   "cell_type": "markdown",
   "metadata": {},
   "source": [
    "# Blending"
   ]
  },
  {
   "cell_type": "code",
   "execution_count": 70,
   "metadata": {},
   "outputs": [
    {
     "name": "stdout",
     "output_type": "stream",
     "text": [
      "Base model metrics\n",
      "accuracy: 0.80\n",
      "precission: 0.79\n",
      "recall: 0.78\n",
      "f1-score: 0.79\n",
      "\n",
      "Blending metrics\n",
      "accuracy: 0.76\n",
      "precission: 0.77\n",
      "recall: 0.74\n",
      "f1-score: 0.74\n"
     ]
    }
   ],
   "source": [
    "# define models\n",
    "\n",
    "def func_base_models():\n",
    "    models = list()\n",
    "    models.append(('rfc', RandomForestClassifier(n_estimators=150,\n",
    "                             criterion='gini',\n",
    "                             max_depth=None,\n",
    "                             class_weight={0:w0, 1:w1},\n",
    "                             verbose=False,\n",
    "                             n_jobs=-1))),                            \n",
    "    models.append(('bag', BaggingClassifier(estimator=rfc, n_estimators=150, max_samples=1.0,\n",
    "                            max_features=1.0, bootstrap=True,\n",
    "                            bootstrap_features=False,\n",
    "                            n_jobs=-1))),         \n",
    "    models.append(('gbc', GradientBoostingClassifier(n_estimators=150))),    \n",
    "    models.append(('ada', AdaBoostClassifier(estimator=rfc, n_estimators=150))),\n",
    "    models.append(('xgb', xgboost.XGBClassifier(n_estimators=200, learning_rate=0.1, random_state=42)))\n",
    "    \n",
    "    return models\n",
    "\n",
    "# 1. spliting dataset into train, validation, test set (X_train, X_val, X_test, y_train, y_val, y_test)\n",
    "\n",
    "X_train_tmp, X_test, y_train_tmp, y_test = train_test_split(X, y, test_size=0.3, random_state=1)\n",
    "X_train, X_val, y_train, y_val = train_test_split(X_train_tmp, y_train_tmp, test_size=0.33, random_state=1)\n",
    "\n",
    "X_train_sc = sc.fit_transform(X_train)\n",
    "X_val_sc = sc.transform(X_val)\n",
    "X_test_sc = sc.transform(X_test)\n",
    "\n",
    "# check metrics on base model \n",
    "\n",
    "base = LogisticRegression()\n",
    "# trainig base model and predictions of validatioin set\n",
    "base.fit(X_train_sc, y_train)\n",
    "yhat_base_valid = base.predict(X_val_sc)\n",
    "\n",
    "models = func_base_models()\n",
    "meta_X = list()\n",
    "\n",
    "# 2. train on train set and predict on validation set\n",
    "\n",
    "for name, model in models:\n",
    "    # training models on train set\n",
    "    model.fit(X_train_sc, y_train)\n",
    "\n",
    "    # predict on validation set\n",
    "    yhat_valid = model.predict_proba(X_val_sc)\n",
    "\n",
    "    # storing predictions\n",
    "    meta_X.append(yhat_valid)\n",
    "\n",
    "meta_X = np.hstack(meta_X)\n",
    "\n",
    "# 3. create blending meta learner\n",
    "\n",
    "blender = LogisticRegression()\n",
    "# trainig on base model predictions of validatioin set\n",
    "blender.fit(meta_X, y_val)\n",
    "\n",
    "# 4. do predictions using blending  meta learner\n",
    "\n",
    "meta_X = list()\n",
    "for name, model in models:\n",
    "  yhat = model.predict_proba(X_test.values)\n",
    "  meta_X.append(yhat)\n",
    "meta_X = np.hstack(meta_X)\n",
    "y_pred = blender.predict(meta_X)\n",
    "\n",
    "accuracy = accuracy_score(y_val, yhat_base_valid)\n",
    "precission, recall, f1, _ = precision_recall_fscore_support(y_val, yhat_base_valid, average='macro')\n",
    "\n",
    "print(f\"Base model metrics\\naccuracy: {accuracy:.2f}\\nprecission: {precission:.2f}\\nrecall: {recall:.2f}\\nf1-score: {f1:.2f}\")\n",
    "\n",
    "accuracy = accuracy_score(y_test, y_pred)\n",
    "precission, recall, f1, _ = precision_recall_fscore_support(y_test, y_pred, average='macro')\n",
    "\n",
    "print(f\"\\nBlending metrics\\naccuracy: {accuracy:.2f}\\nprecission: {precission:.2f}\\nrecall: {recall:.2f}\\nf1-score: {f1:.2f}\")"
   ]
  }
 ],
 "metadata": {
  "kernelspec": {
   "display_name": "dlgpu",
   "language": "python",
   "name": "python3"
  },
  "language_info": {
   "codemirror_mode": {
    "name": "ipython",
    "version": 3
   },
   "file_extension": ".py",
   "mimetype": "text/x-python",
   "name": "python",
   "nbconvert_exporter": "python",
   "pygments_lexer": "ipython3",
   "version": "3.11.3"
  }
 },
 "nbformat": 4,
 "nbformat_minor": 2
}
